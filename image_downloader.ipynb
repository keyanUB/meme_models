{
 "cells": [
  {
   "cell_type": "code",
   "execution_count": 1,
   "metadata": {},
   "outputs": [],
   "source": [
    "import pandas as pd\n",
    "import requests \n",
    "import os\n",
    "import time"
   ]
  },
  {
   "cell_type": "code",
   "execution_count": 2,
   "metadata": {},
   "outputs": [],
   "source": [
    "# Read the csv file\n",
    "df = pd.read_csv('memes_total.csv')"
   ]
  },
  {
   "cell_type": "code",
   "execution_count": 6,
   "metadata": {},
   "outputs": [
    {
     "name": "stdout",
     "output_type": "stream",
     "text": [
      "Downloaded -  7355\n"
     ]
    }
   ],
   "source": [
    "# store the images within the folder\n",
    "folder = 'images'\n",
    "\n",
    "# create the folder if it doesn't exist\n",
    "if not os.path.exists(folder):\n",
    "    os.makedirs(folder)\n",
    "\n",
    "# loop through the images and download them\n",
    "for index, row in df[7355:7356].iterrows():\n",
    "    try:\n",
    "        url = row['image_url']\n",
    "        r = requests.get(url)\n",
    "        if r.status_code == 200:\n",
    "            with open(os.path.join(folder, url.split('/')[-1]), 'wb') as f:\n",
    "                f.write(r.content)\n",
    "                f.close()\n",
    "                print(\"Downloaded - \", index)\n",
    "    except:\n",
    "        print(\"Error - \", index)\n",
    "        # save the index of the image that failed to download\n",
    "        with open('error.txt', 'a') as f:\n",
    "            f.write(str(index) + str(row['id']) + str(row['image_url']) + \"\\n\")\n",
    "    # time.sleep(0.5)"
   ]
  },
  {
   "cell_type": "code",
   "execution_count": 8,
   "metadata": {},
   "outputs": [
    {
     "name": "stdout",
     "output_type": "stream",
     "text": [
      "8281\n"
     ]
    }
   ],
   "source": [
    "# count the number of images in the folder\n",
    "print(len(os.listdir(folder)))\n"
   ]
  },
  {
   "cell_type": "code",
   "execution_count": 10,
   "metadata": {},
   "outputs": [
    {
     "name": "stdout",
     "output_type": "stream",
     "text": [
      "\n"
     ]
    }
   ],
   "source": [
    "# check the error file\n",
    "with open('error.txt', 'r') as f:\n",
    "    print(f.read())"
   ]
  },
  {
   "cell_type": "code",
   "execution_count": 18,
   "metadata": {},
   "outputs": [
    {
     "name": "stderr",
     "output_type": "stream",
     "text": [
      "/tmp/ipykernel_168665/1589960623.py:1: FutureWarning: The default value of regex will change from True to False in a future version.\n",
      "  df['image_path'] = df['image_path'].str.replace('https://covid19hatefulmemes2.s3.us-east-2.amazonaws.com/img/', 'images/')\n"
     ]
    }
   ],
   "source": [
    "df['image_path'] = df['image_path'].str.replace('https://covid19hatefulmemes2.s3.us-east-2.amazonaws.com/img/', 'images/')"
   ]
  },
  {
   "cell_type": "code",
   "execution_count": 23,
   "metadata": {},
   "outputs": [],
   "source": [
    "# check if the images are downloaded\n",
    "df['image_path'].apply(lambda x: os.path.exists(x)).value_counts()\n",
    "# redownload the images that failed to download\n",
    "df_failed = df[df['image_path'].apply(lambda x: os.path.exists(x)) == False]"
   ]
  },
  {
   "cell_type": "code",
   "execution_count": 28,
   "metadata": {},
   "outputs": [
    {
     "data": {
      "text/plain": [
       "['https://covid19hatefulmemes2.s3.us-east-2.amazonaws.com/img/EYtu1xLXgAA2t4T.jpg',\n",
       " 'https://covid19hatefulmemes2.s3.us-east-2.amazonaws.com/img/FbS5iXYXkAAv_18.jpg',\n",
       " 'https://covid19hatefulmemes2.s3.us-east-2.amazonaws.com/img/FdNM8atXEAMqMMm.jpg']"
      ]
     },
     "execution_count": 28,
     "metadata": {},
     "output_type": "execute_result"
    }
   ],
   "source": [
    "df_failed.image_url.tolist()"
   ]
  },
  {
   "cell_type": "code",
   "execution_count": 29,
   "metadata": {},
   "outputs": [],
   "source": [
    "# remove the images that failed to download\n",
    "df = df[df['image_path'].apply(lambda x: os.path.exists(x)) == True]"
   ]
  },
  {
   "cell_type": "code",
   "execution_count": 31,
   "metadata": {},
   "outputs": [],
   "source": [
    "df.to_csv('memes_total.csv', index=False)"
   ]
  },
  {
   "cell_type": "code",
   "execution_count": 33,
   "metadata": {},
   "outputs": [],
   "source": [
    "# split the data into train and test\n",
    "from sklearn.model_selection import train_test_split\n",
    "\n",
    "df_train, df_test = train_test_split(df, test_size=0.2, random_state=42)\n",
    "\n",
    "df_train.to_csv('memes_train.csv', index=False)\n",
    "df_test.to_csv('memes_test.csv', index=False)"
   ]
  },
  {
   "attachments": {},
   "cell_type": "markdown",
   "metadata": {},
   "source": []
  },
  {
   "cell_type": "code",
   "execution_count": null,
   "metadata": {},
   "outputs": [],
   "source": []
  }
 ],
 "metadata": {
  "kernelspec": {
   "display_name": "python3",
   "language": "python",
   "name": "python3"
  },
  "language_info": {
   "codemirror_mode": {
    "name": "ipython",
    "version": 3
   },
   "file_extension": ".py",
   "mimetype": "text/x-python",
   "name": "python",
   "nbconvert_exporter": "python",
   "pygments_lexer": "ipython3",
   "version": "3.10.8"
  },
  "orig_nbformat": 4,
  "vscode": {
   "interpreter": {
    "hash": "30104676fc1f11152a662b3d1ac6a86278087a9fbbe46acdab4072763e5a483f"
   }
  }
 },
 "nbformat": 4,
 "nbformat_minor": 2
}
