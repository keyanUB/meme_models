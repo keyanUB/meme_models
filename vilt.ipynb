{
 "cells": [
  {
   "cell_type": "code",
   "execution_count": 1,
   "metadata": {},
   "outputs": [],
   "source": [
    "import pandas as pd\n",
    "import numpy as np\n",
    "import matplotlib.pyplot as plt\n",
    "import seaborn as sns\n",
    "import os\n",
    "import tqdm\n",
    "from tqdm import trange\n",
    "import torch\n",
    "from torch import nn, optim\n",
    "import warnings\n",
    "warnings.filterwarnings('ignore')\n",
    "%matplotlib inline"
   ]
  },
  {
   "cell_type": "code",
   "execution_count": 2,
   "metadata": {},
   "outputs": [],
   "source": [
    "os.environ[\"TOKENIZERS_PARALLELISM\"] = \"false\""
   ]
  },
  {
   "cell_type": "code",
   "execution_count": 3,
   "metadata": {},
   "outputs": [
    {
     "name": "stdout",
     "output_type": "stream",
     "text": [
      "training dataset:  (6625, 10)\n",
      "testing dataset:  (1657, 10)\n"
     ]
    }
   ],
   "source": [
    "# Read the data\n",
    "train = pd.read_csv('memes_train.csv')\n",
    "test = pd.read_csv('memes_test.csv')\n",
    "print('training dataset: ', train.shape)\n",
    "print('testing dataset: ', test.shape)"
   ]
  },
  {
   "cell_type": "code",
   "execution_count": 4,
   "metadata": {},
   "outputs": [
    {
     "name": "stderr",
     "output_type": "stream",
     "text": [
      "Some weights of the model checkpoint at dandelin/vilt-b32-finetuned-vqa were not used when initializing ViltModel: ['classifier.1.bias', 'classifier.1.weight', 'classifier.3.weight', 'classifier.0.bias', 'classifier.3.bias', 'classifier.0.weight']\n",
      "- This IS expected if you are initializing ViltModel from the checkpoint of a model trained on another task or with another architecture (e.g. initializing a BertForSequenceClassification model from a BertForPreTraining model).\n",
      "- This IS NOT expected if you are initializing ViltModel from the checkpoint of a model that you expect to be exactly identical (initializing a BertForSequenceClassification model from a BertForSequenceClassification model).\n"
     ]
    }
   ],
   "source": [
    "# Load the model\n",
    "from transformers import ViltProcessor, ViltModel\n",
    "from PIL import Image\n",
    "import requests\n",
    "\n",
    "processor = ViltProcessor.from_pretrained(\"dandelin/vilt-b32-finetuned-vqa\")\n",
    "model = ViltModel.from_pretrained(\"dandelin/vilt-b32-finetuned-vqa\")"
   ]
  },
  {
   "cell_type": "code",
   "execution_count": 5,
   "metadata": {},
   "outputs": [],
   "source": [
    "# use cuda if available\n",
    "import torch\n",
    "device = \"cuda\" if torch.cuda.is_available() else \"cpu\""
   ]
  },
  {
   "cell_type": "code",
   "execution_count": 6,
   "metadata": {},
   "outputs": [],
   "source": [
    "# define the classifier\n",
    "model = model.to(device)\n",
    "encoder = nn.Sequential(*[model.embeddings, model.encoder])\n",
    "ViT_embed_dim = 768  # final embedding dimension for ViT\n",
    "n_classes = 2        # number of classes for my dataset\n",
    "classifier = nn.Linear(ViT_embed_dim, n_classes)"
   ]
  },
  {
   "cell_type": "code",
   "execution_count": 7,
   "metadata": {},
   "outputs": [],
   "source": [
    "# prepare the dataloader\n",
    "from torch.utils.data import DataLoader\n",
    "from torch.utils.data import Dataset\n",
    "from torchvision import transforms\n",
    "from torchvision.transforms import ToTensor\n",
    "from PIL import Image\n",
    "import requests\n",
    "\n",
    "class MemeDataset(Dataset):\n",
    "    def __init__(self, df, transform=None):\n",
    "        self.df = df\n",
    "        self.transform = transform\n",
    "\n",
    "    def __len__(self):\n",
    "        return len(self.df)\n",
    "\n",
    "    def __getitem__(self, idx):\n",
    "        # read the data from the dataframe\n",
    "        row = self.df.iloc[idx]\n",
    "        image = row['image_path']\n",
    "        # image = Image.open(image).convert('RGB')\n",
    "        if self.transform:\n",
    "            image = Image.open(image).convert('RGB')\n",
    "            image = self.transform(image)        \n",
    "        text = str(row['image_text'])\n",
    "        # date = row['created_at']\n",
    "        label = row['label']\n",
    "\n",
    "        return image, text, label\n",
    "\n",
    "# define transforms\n",
    "transform = {\n",
    "        'train' : transforms.Compose([transforms.Resize((224, 224)),\n",
    "                                      transforms.RandomHorizontalFlip(), \n",
    "                                      transforms.RandomRotation(50),\n",
    "                                      transforms.ToTensor()]),\n",
    "\n",
    "        'valid' : transforms.Compose([transforms.Resize((224, 224)),\n",
    "                                      transforms.RandomHorizontalFlip(),\n",
    "                                      transforms.ToTensor()])\n",
    "        }\n"
   ]
  },
  {
   "cell_type": "code",
   "execution_count": 8,
   "metadata": {},
   "outputs": [
    {
     "name": "stdout",
     "output_type": "stream",
     "text": [
      "training dataset:  (5300, 10)\n",
      "validation dataset:  (1325, 10)\n"
     ]
    }
   ],
   "source": [
    "# splite the training set into train and valid\n",
    "from sklearn.model_selection import train_test_split\n",
    "train_df, valid_df = train_test_split(train, test_size=0.2, random_state=42)\n",
    "print('training dataset: ', train_df.shape)\n",
    "print('validation dataset: ', valid_df.shape)"
   ]
  },
  {
   "cell_type": "code",
   "execution_count": 9,
   "metadata": {},
   "outputs": [],
   "source": [
    "# load the dataset\n",
    "train_dataset = MemeDataset(train_df)\n",
    "valid_dataset = MemeDataset(valid_df)\n",
    "test_dataset = MemeDataset(test)"
   ]
  },
  {
   "cell_type": "code",
   "execution_count": 10,
   "metadata": {},
   "outputs": [],
   "source": [
    "# define the dataloader\n",
    "batch_size = 64\n",
    "num_workers = 3\n",
    "train_loader = DataLoader(train_dataset, batch_size=batch_size, num_workers=num_workers, shuffle=True)\n",
    "valid_loader = DataLoader(valid_dataset, batch_size=batch_size, num_workers=num_workers, shuffle=False)\n",
    "test_loader = DataLoader(test_dataset, batch_size=batch_size, num_workers=num_workers, shuffle=False)"
   ]
  },
  {
   "cell_type": "code",
   "execution_count": 26,
   "metadata": {},
   "outputs": [],
   "source": [
    "# define the fine-tune function\n",
    "def fine_tune_ViT(encoder,     # ViT encoder (pre-trained)\n",
    "                  classifier,  # single-layer fully-connected classifier\n",
    "                  dataloaders, # dict with 2 keys, \"train\" and \"valid\", containing train & valid dataloaders\n",
    "                  n_epochs,    # number of epochs to fine-tune\n",
    "                  lr,          # learning rate\n",
    "                  multi_label_data=False\n",
    "                  ):\n",
    "  \n",
    "  encoder.to(device)\n",
    "  classifier.to(device)\n",
    "\n",
    "  #  1. Define optimizers and loss function  \n",
    "  optimizer_encoder = optim.Adam(encoder.parameters(), lr=lr, betas=(0.5, 0.9))\n",
    "  optimizer_classifier = optim.Adam(classifier.parameters(), lr=lr, betas=(0.5, 0.9))\n",
    "  ### Different loss criterion for multi-label and single-label data\n",
    "  if multi_label_data:\n",
    "    criterion = nn.BCEWithLogitsLoss().to(device)\n",
    "  else: # single-label data (standard)\n",
    "    criterion = nn.CrossEntropyLoss().to(device)\n",
    "  \n",
    "  train_losses, val_losses, val_accs = [], [], []\n",
    "  for e in trange(n_epochs, desc=\"Epoch\"):\n",
    "    #  2. Train on training data  \n",
    "    encoder.train()\n",
    "    classifier.train()\n",
    "    train_loss = 0.\n",
    "    for batch_i, (image, text, label) in enumerate(train_loader):\n",
    "      # image = Image.open(requests.get(img, stream=True).raw)\n",
    "      # image = Image.open(img)\n",
    "      images = []\n",
    "      for img in image:\n",
    "        images.append(Image.open(img).convert('RGB'))\n",
    "      # texts = []\n",
    "      # for txt in text:\n",
    "      #   texts.append(txt)\n",
    "      inputs = processor(images, text, return_tensors=\"pt\", padding=True, truncation=True).to(device)\n",
    "      outputs = model(**inputs)\n",
    "      logits = classifier(outputs.pooler_output) #get the predictions \n",
    "           \n",
    "      optimizer_encoder.zero_grad()\n",
    "      optimizer_classifier.zero_grad()\n",
    "\n",
    "      label = label.to(device)\n",
    "      if multi_label_data:\n",
    "        loss = criterion(logits.type(torch.FloatTensor), label.type(torch.FloatTensor))\n",
    "      else:\n",
    "        loss = criterion(logits.squeeze(-1).to(device), label)\n",
    "\n",
    "      loss.backward()\n",
    "      optimizer_encoder.step()\n",
    "      optimizer_classifier.step()\n",
    "      train_loss += loss.item()\n",
    "      # print(f\"For batch {batch_i+1}/{len(train_loader)}.. \"\n",
    "      #       f\"Train loss: {loss.item():.3f}.. \")\n",
    "    train_losses.append(train_loss/len(train_loader))\n",
    "    print(f\"Epoch {e+1}/{n_epochs}.. \"\n",
    "          f\"Train loss: {train_loss/len(train_loader):.3f}.. \") \n",
    "    \n",
    "\n",
    "    #  3. Evaluate on valdiation data  \n",
    "    encoder.eval()\n",
    "    classifier.eval()\n",
    "    val_loss = 0.\n",
    "    for batch_i, (val_image, val_text, val_label) in enumerate(valid_loader):\n",
    "      # image = Image.open(img)\n",
    "      val_images = []\n",
    "      for img in val_image:\n",
    "        val_images.append(Image.open(img).convert('RGB'))\n",
    "      # texts = []\n",
    "      # for txt in text:\n",
    "      #   texts.append(txt)\n",
    "      inputs = processor(val_images, val_text, return_tensors=\"pt\", padding=True, truncation=True).to(device)\n",
    "      val_label = val_label.to(device)\n",
    "      with torch.no_grad():\n",
    "        # embeddings, att_weights = encoder(img) # embeddings: [batch_size, n_tokens, embedding dim]\n",
    "        outputs = model(**inputs)\n",
    "        logits = classifier(outputs.pooler_output) #get the predictions\n",
    "        # loss = criterion(logits.type(torch.FloatTensor), label.type(torch.FloatTensor))\n",
    "        loss = criterion(logits.squeeze(-1).to(device), val_label)\n",
    "        val_loss += loss.item()\n",
    "    \n",
    "    #  4. Log results and save model checkpoints \n",
    "    print(\"Epoch: {}/{}   Val CE Loss: {:.5f}\".format(e+1, n_epochs, val_loss/len(valid_loader)))\n",
    "    \n",
    "    # torch.save(encoder.state_dict(), 'encoder_{}.pt'.format(e+1))\n",
    "    # torch.save(classifier.state_dict(), 'classifier_{}.pt'.format(e+1))\n",
    "    # # save the best model\n",
    "    if val_loss/len(valid_loader) < min(val_losses):\n",
    "      torch.save(encoder.state_dict(), 'best_encoder.pt')\n",
    "      torch.save(classifier.state_dict(), 'best_classifier.pt')\n",
    "    val_losses.append(val_loss/len(valid_loader))\n",
    "\n",
    "  return encoder, classifier"
   ]
  },
  {
   "cell_type": "code",
   "execution_count": 27,
   "metadata": {},
   "outputs": [
    {
     "name": "stderr",
     "output_type": "stream",
     "text": [
      "Epoch:   0%|          | 0/10 [00:00<?, ?it/s]"
     ]
    },
    {
     "name": "stdout",
     "output_type": "stream",
     "text": [
      "Epoch 1/10.. Train loss: 0.628.. \n"
     ]
    },
    {
     "name": "stderr",
     "output_type": "stream",
     "text": [
      "Epoch:  10%|█         | 1/10 [02:16<20:28, 136.46s/it]"
     ]
    },
    {
     "name": "stdout",
     "output_type": "stream",
     "text": [
      "Epoch: 1/10   Val CE Loss: 0.64861\n",
      "Epoch 2/10.. Train loss: 0.595.. \n"
     ]
    },
    {
     "name": "stderr",
     "output_type": "stream",
     "text": [
      "Epoch:  20%|██        | 2/10 [04:33<18:16, 137.04s/it]"
     ]
    },
    {
     "name": "stdout",
     "output_type": "stream",
     "text": [
      "Epoch: 2/10   Val CE Loss: 0.63753\n",
      "Epoch 3/10.. Train loss: 0.560.. \n"
     ]
    },
    {
     "name": "stderr",
     "output_type": "stream",
     "text": [
      "Epoch:  30%|███       | 3/10 [06:51<16:00, 137.21s/it]"
     ]
    },
    {
     "name": "stdout",
     "output_type": "stream",
     "text": [
      "Epoch: 3/10   Val CE Loss: 0.63731\n",
      "Epoch 4/10.. Train loss: 0.523.. \n"
     ]
    },
    {
     "name": "stderr",
     "output_type": "stream",
     "text": [
      "Epoch:  40%|████      | 4/10 [09:10<13:48, 138.04s/it]"
     ]
    },
    {
     "name": "stdout",
     "output_type": "stream",
     "text": [
      "Epoch: 4/10   Val CE Loss: 0.62701\n",
      "Epoch 5/10.. Train loss: 0.483.. \n"
     ]
    },
    {
     "name": "stderr",
     "output_type": "stream",
     "text": [
      "Epoch:  50%|█████     | 5/10 [11:29<11:31, 138.23s/it]"
     ]
    },
    {
     "name": "stdout",
     "output_type": "stream",
     "text": [
      "Epoch: 5/10   Val CE Loss: 0.62605\n",
      "Epoch 6/10.. Train loss: 0.440.. \n"
     ]
    },
    {
     "name": "stderr",
     "output_type": "stream",
     "text": [
      "Epoch:  60%|██████    | 6/10 [13:48<09:14, 138.53s/it]"
     ]
    },
    {
     "name": "stdout",
     "output_type": "stream",
     "text": [
      "Epoch: 6/10   Val CE Loss: 0.62782\n",
      "Epoch 7/10.. Train loss: 0.395.. \n"
     ]
    },
    {
     "name": "stderr",
     "output_type": "stream",
     "text": [
      "Epoch:  70%|███████   | 7/10 [16:05<06:54, 138.25s/it]"
     ]
    },
    {
     "name": "stdout",
     "output_type": "stream",
     "text": [
      "Epoch: 7/10   Val CE Loss: 0.63517\n",
      "Epoch 8/10.. Train loss: 0.348.. \n"
     ]
    },
    {
     "name": "stderr",
     "output_type": "stream",
     "text": [
      "Epoch:  80%|████████  | 8/10 [18:23<04:36, 138.08s/it]"
     ]
    },
    {
     "name": "stdout",
     "output_type": "stream",
     "text": [
      "Epoch: 8/10   Val CE Loss: 0.64617\n",
      "Epoch 9/10.. Train loss: 0.299.. \n"
     ]
    },
    {
     "name": "stderr",
     "output_type": "stream",
     "text": [
      "Epoch:  90%|█████████ | 9/10 [20:41<02:17, 137.98s/it]"
     ]
    },
    {
     "name": "stdout",
     "output_type": "stream",
     "text": [
      "Epoch: 9/10   Val CE Loss: 0.66066\n",
      "Epoch 10/10.. Train loss: 0.251.. \n"
     ]
    },
    {
     "name": "stderr",
     "output_type": "stream",
     "text": [
      "Epoch: 100%|██████████| 10/10 [22:58<00:00, 137.90s/it]"
     ]
    },
    {
     "name": "stdout",
     "output_type": "stream",
     "text": [
      "Epoch: 10/10   Val CE Loss: 0.67779\n"
     ]
    },
    {
     "name": "stderr",
     "output_type": "stream",
     "text": [
      "\n"
     ]
    }
   ],
   "source": [
    "# fine-tune the model\n",
    "encoder, classifier = fine_tune_ViT(encoder, \n",
    "                                    classifier, \n",
    "                                    n_epochs=10, \n",
    "                                    lr=3e-6,\n",
    "                                    dataloaders={'train': train_loader, 'valid': valid_loader}\n",
    "                                    )"
   ]
  },
  {
   "cell_type": "code",
   "execution_count": null,
   "metadata": {},
   "outputs": [],
   "source": [
    "# # load the best model\n",
    "encoder.load_state_dict(torch.load('best_encoder.pt'))\n",
    "classifier.load_state_dict(torch.load('best_classifier.pt'))"
   ]
  },
  {
   "cell_type": "code",
   "execution_count": 63,
   "metadata": {},
   "outputs": [
    {
     "name": "stdout",
     "output_type": "stream",
     "text": [
      "The number of correct predictions:  38 / 64\n",
      "The number of correct predictions:  44 / 64\n",
      "The number of correct predictions:  47 / 64\n",
      "The number of correct predictions:  41 / 64\n",
      "The number of correct predictions:  43 / 64\n",
      "The number of correct predictions:  45 / 64\n",
      "The number of correct predictions:  40 / 64\n",
      "The number of correct predictions:  43 / 64\n",
      "The number of correct predictions:  41 / 64\n",
      "The number of correct predictions:  46 / 64\n",
      "The number of correct predictions:  44 / 64\n",
      "The number of correct predictions:  40 / 64\n",
      "The number of correct predictions:  42 / 64\n",
      "The number of correct predictions:  42 / 64\n",
      "The number of correct predictions:  34 / 64\n",
      "The number of correct predictions:  36 / 64\n",
      "The number of correct predictions:  42 / 64\n",
      "The number of correct predictions:  40 / 64\n",
      "The number of correct predictions:  40 / 64\n",
      "The number of correct predictions:  41 / 64\n",
      "The number of correct predictions:  35 / 64\n",
      "The number of correct predictions:  45 / 64\n",
      "The number of correct predictions:  34 / 64\n",
      "The number of correct predictions:  50 / 64\n",
      "The number of correct predictions:  44 / 64\n",
      "The number of correct predictions:  38 / 57\n",
      "The number of correct predictions:  38 / 64\n",
      "The number of correct predictions:  44 / 64\n",
      "The number of correct predictions:  47 / 64\n",
      "The number of correct predictions:  41 / 64\n",
      "The number of correct predictions:  43 / 64\n",
      "The number of correct predictions:  45 / 64\n",
      "The number of correct predictions:  40 / 64\n",
      "The number of correct predictions:  43 / 64\n",
      "The number of correct predictions:  41 / 64\n",
      "The number of correct predictions:  46 / 64\n",
      "The number of correct predictions:  44 / 64\n",
      "The number of correct predictions:  40 / 64\n",
      "The number of correct predictions:  42 / 64\n",
      "The number of correct predictions:  42 / 64\n",
      "The number of correct predictions:  34 / 64\n",
      "The number of correct predictions:  36 / 64\n",
      "The number of correct predictions:  42 / 64\n",
      "The number of correct predictions:  40 / 64\n",
      "The number of correct predictions:  40 / 64\n",
      "The number of correct predictions:  41 / 64\n",
      "The number of correct predictions:  35 / 64\n",
      "The number of correct predictions:  45 / 64\n",
      "The number of correct predictions:  34 / 64\n",
      "The number of correct predictions:  50 / 64\n",
      "The number of correct predictions:  44 / 64\n",
      "The number of correct predictions:  38 / 57\n"
     ]
    }
   ],
   "source": [
    "# plot the roc curve\n",
    "from sklearn.metrics import roc_curve, auc\n",
    "import matplotlib.pyplot as plt\n",
    "\n",
    "tp, fp, tn, fn = 0, 0, 0, 0\n",
    "y_true = []\n",
    "y_pred = []\n",
    "for batch_i, (test_image, test_text, test_label) in enumerate(test_loader):\n",
    "    # image = Image.open(img)\n",
    "    test_images = []\n",
    "    for img in test_image:\n",
    "        test_images.append(Image.open(img).convert('RGB'))\n",
    "    inputs = processor(test_images, test_text, return_tensors=\"pt\", padding=True, truncation=True).to(device)\n",
    "    test_label = test_label.to(device)\n",
    "    with torch.no_grad():\n",
    "        # embeddings, att_weights = encoder(img) # embeddings: [batch_size, n_tokens, embedding dim]\n",
    "        outputs = model(**inputs)\n",
    "        logits = classifier(outputs.pooler_output) #get the predictions\n",
    "        # generate predictions\n",
    "        preds = torch.argmax(logits, dim=1)\n",
    "        # print(preds)\n",
    "        # print(test_label)\n",
    "        print('The number of correct predictions: ', (preds == test_label).sum().item(), '/', len(preds))\n",
    "\n",
    "        # test the model\n",
    "encoder.eval()\n",
    "classifier.eval()\n",
    "test_loss = 0.\n",
    "tp, tn, fp, fn = 0, 0, 0, 0\n",
    "\n",
    "for batch_i, (test_image, test_text, test_label) in enumerate(test_loader):\n",
    "    # image = Image.open(img)\n",
    "    test_images = []\n",
    "    for img in test_image:\n",
    "        test_images.append(Image.open(img).convert('RGB'))\n",
    "    inputs = processor(test_images, test_text, return_tensors=\"pt\", padding=True, truncation=True).to(device)\n",
    "    test_label = test_label.to(device)\n",
    "    with torch.no_grad():\n",
    "        # embeddings, att_weights = encoder(img) # embeddings: [batch_size, n_tokens, embedding dim]\n",
    "        outputs = model(**inputs)\n",
    "        logits = classifier(outputs.pooler_output) #get the predictions\n",
    "        # generate predictions\n",
    "        preds = torch.argmax(logits, dim=1)\n",
    "        # print(preds)\n",
    "        # print(test_label)\n",
    "        print('The number of correct predictions: ', (preds == test_label).sum().item(), '/', len(preds))\n",
    "        \n",
    "    # get the accuracy\n",
    "    for i in range(len(preds)):\n",
    "        if preds[i] == 1 and test_label[i] == 1:\n",
    "            tp += 1\n",
    "        elif preds[i] == 0 and test_label[i] == 0:\n",
    "            tn += 1\n",
    "        elif preds[i] == 1 and test_label[i] == 0:\n",
    "            fp += 1\n",
    "        else:\n",
    "            fn += 1   \n",
    "    \n",
    "    for i in range(len(preds)):\n",
    "        y_true.append(test_label[i].item())\n",
    "        y_pred.append(preds[i].item())\n",
    "\n",
    "fpr, tpr, thresholds = roc_curve(y_true, y_pred)"
   ]
  },
  {
   "cell_type": "code",
   "execution_count": 64,
   "metadata": {},
   "outputs": [
    {
     "name": "stdout",
     "output_type": "stream",
     "text": [
      "+-----------+--------------------+\n",
      "|   Metric  |       Value        |\n",
      "+-----------+--------------------+\n",
      "|  Accuracy | 0.6487628243814122 |\n",
      "| Precision | 0.6033376123234917 |\n",
      "|   Recall  | 0.6325706594885598 |\n",
      "|  F1 Score | 0.6176084099868594 |\n",
      "+-----------+--------------------+\n"
     ]
    }
   ],
   "source": [
    "# print the evaluation metrics in a table\n",
    "from prettytable import PrettyTable\n",
    "x = PrettyTable()\n",
    "x.field_names = [\"Metric\", \"Value\"]\n",
    "x.add_row([\"Accuracy\", (tp+tn)/(tp+tn+fp+fn)])\n",
    "x.add_row([\"Precision\", tp/(tp+fp)])\n",
    "x.add_row([\"Recall\", tp/(tp+fn)])\n",
    "x.add_row([\"F1 Score\", 2*tp/(2*tp+fp+fn)])\n",
    "print(x)"
   ]
  },
  {
   "cell_type": "code",
   "execution_count": 65,
   "metadata": {},
   "outputs": [
    {
     "data": {
      "image/png": "[encoded data removed]",
      "text/plain": [
       "<Figure size 640x480 with 1 Axes>"
      ]
     },
     "metadata": {},
     "output_type": "display_data"
    }
   ],
   "source": [
    "# Plot ROC curve\n",
    "plt.figure()\n",
    "lw = 2\n",
    "plt.plot(fpr, tpr, color='darkorange',\n",
    "            lw=lw, label='ROC curve (area = %0.2f)' % roc_auc)\n",
    "plt.plot([0, 1], [0, 1], color='navy', lw=lw, linestyle='--')\n",
    "plt.xlim([0.0, 1.0])\n",
    "plt.ylim([0.0, 1.05])\n",
    "plt.xlabel('False Positive Rate')\n",
    "plt.ylabel('True Positive Rate')\n",
    "plt.title('ROC Curve for ViT')\n",
    "plt.legend(loc=\"lower right\")\n",
    "plt.show()\n"
   ]
  },
  {
   "cell_type": "code",
   "execution_count": 93,
   "metadata": {},
   "outputs": [],
   "source": [
    "# save the results\n",
    "df = pd.DataFrame(columns=['tp', 'tn', 'fp', 'fn', 'fpr', 'tpr', 'thresholds'])\n",
    "df.loc[0] = [tp, tn, fp, fn, fpr, tpr, thresholds]\n",
    "df.to_csv('vit_results.csv')"
   ]
  }
 ],
 "metadata": {
  "kernelspec": {
   "display_name": "python3",
   "language": "python",
   "name": "python3"
  },
  "language_info": {
   "codemirror_mode": {
    "name": "ipython",
    "version": 3
   },
   "file_extension": ".py",
   "mimetype": "text/x-python",
   "name": "python",
   "nbconvert_exporter": "python",
   "pygments_lexer": "ipython3",
   "version": "3.10.8"
  },
  "orig_nbformat": 4,
  "vscode": {
   "interpreter": {
    "hash": "30104676fc1f11152a662b3d1ac6a86278087a9fbbe46acdab4072763e5a483f"
   }
  }
 },
 "nbformat": 4,
 "nbformat_minor": 2
}
